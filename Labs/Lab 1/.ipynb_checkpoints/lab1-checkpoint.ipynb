{
 "cells": [
  {
   "cell_type": "code",
   "execution_count": 1,
   "id": "818ecfca-bb5c-4107-9d9c-a1ab7dd063dc",
   "metadata": {},
   "outputs": [],
   "source": [
    "import numpy as np"
   ]
  },
  {
   "cell_type": "code",
   "execution_count": 2,
   "id": "ea5e8c5d-baa6-4407-a8f6-00c50cd97a9b",
   "metadata": {},
   "outputs": [
    {
     "name": "stdout",
     "output_type": "stream",
     "text": [
      "[1, 2, 3, 4, 5]\n",
      "<class 'list'>\n"
     ]
    }
   ],
   "source": [
    "python_list = [1, 2, 3, 4, 5]\n",
    "print(python_list)\n",
    "print(type(python_list))"
   ]
  },
  {
   "cell_type": "code",
   "execution_count": 4,
   "id": "94fc2e93-d58f-46c5-85cc-a284af157ed6",
   "metadata": {},
   "outputs": [
    {
     "name": "stdout",
     "output_type": "stream",
     "text": [
      "[1 2 3 4 5]\n",
      "<class 'numpy.ndarray'>\n"
     ]
    }
   ],
   "source": [
    "num_array = np.array(python_list)\n",
    "print(num_array)\n",
    "print(type(num_array))"
   ]
  },
  {
   "cell_type": "code",
   "execution_count": 6,
   "id": "5fb0be8d-d2b4-419f-b508-0abbaed09c4c",
   "metadata": {},
   "outputs": [
    {
     "name": "stdout",
     "output_type": "stream",
     "text": [
      "[[1, 2, 3, 4, 5], [6, 7, 8, 9, 10], [11, 12, 13, 14, 15]]\n",
      "<class 'list'>\n"
     ]
    }
   ],
   "source": [
    "array_2d = [[1, 2, 3, 4, 5], [6, 7, 8, 9, 10], [11, 12, 13, 14, 15]]\n",
    "print(array_2d)\n",
    "print(type(array_2d))"
   ]
  },
  {
   "cell_type": "code",
   "execution_count": 7,
   "id": "4ef0242b-1cbd-419a-b228-ba53687343f2",
   "metadata": {},
   "outputs": [
    {
     "name": "stdout",
     "output_type": "stream",
     "text": [
      "[[ 1  2  3  4  5]\n",
      " [ 6  7  8  9 10]\n",
      " [11 12 13 14 15]]\n",
      "<class 'numpy.ndarray'>\n"
     ]
    }
   ],
   "source": [
    "np_2d = np.array(array_2d)\n",
    "print(np_2d)\n",
    "print(type(np_2d))"
   ]
  },
  {
   "cell_type": "code",
   "execution_count": 8,
   "id": "7dd1143d-37ae-4155-90e3-7bb97be4d4ea",
   "metadata": {},
   "outputs": [],
   "source": [
    "#arange(start, stop, step) will return evenly spaced values within a given interval. \n",
    "#The default step size is 1."
   ]
  },
  {
   "cell_type": "code",
   "execution_count": 10,
   "id": "00217aa4-6b1a-48fc-a879-eccdaa6f440c",
   "metadata": {},
   "outputs": [
    {
     "data": {
      "text/plain": [
       "array([ 0,  1,  2,  3,  4,  5,  6,  7,  8,  9, 10, 11, 12, 13, 14])"
      ]
     },
     "execution_count": 10,
     "metadata": {},
     "output_type": "execute_result"
    }
   ],
   "source": [
    "np.arange(0, 15)"
   ]
  },
  {
   "cell_type": "code",
   "execution_count": 11,
   "id": "7948cfad-29eb-4de8-a90a-abe8fbdd594b",
   "metadata": {},
   "outputs": [
    {
     "data": {
      "text/plain": [
       "array([ 0,  3,  6,  9, 12])"
      ]
     },
     "execution_count": 11,
     "metadata": {},
     "output_type": "execute_result"
    }
   ],
   "source": [
    "np.arange(0, 15, 3)"
   ]
  },
  {
   "cell_type": "code",
   "execution_count": 12,
   "id": "5be26669-75de-4c88-a496-89fd2a4f7002",
   "metadata": {},
   "outputs": [],
   "source": [
    "#if it's 2d array we can use reshape(rows, columns)"
   ]
  },
  {
   "cell_type": "code",
   "execution_count": 13,
   "id": "bcf1933b-1a3a-415f-ac37-0fe71c2e0b55",
   "metadata": {},
   "outputs": [
    {
     "data": {
      "text/plain": [
       "array([[ 0,  1,  2,  3,  4],\n",
       "       [ 5,  6,  7,  8,  9],\n",
       "       [10, 11, 12, 13, 14]])"
      ]
     },
     "execution_count": 13,
     "metadata": {},
     "output_type": "execute_result"
    }
   ],
   "source": [
    "np.arange(0, 15).reshape(3,5)"
   ]
  },
  {
   "cell_type": "code",
   "execution_count": 19,
   "id": "ff76592e-d35c-479a-b470-b58e33d73d2e",
   "metadata": {},
   "outputs": [],
   "source": [
    "#if we wants ndarry of zeroes or ones we can call \"zeros\" or \"ones\" function\n",
    "#the default is a float type"
   ]
  },
  {
   "cell_type": "code",
   "execution_count": 15,
   "id": "981edc00-9d37-449c-8ae5-cd2569b71729",
   "metadata": {},
   "outputs": [
    {
     "data": {
      "text/plain": [
       "array([0., 0., 0., 0., 0., 0., 0., 0., 0., 0., 0., 0., 0., 0., 0.])"
      ]
     },
     "execution_count": 15,
     "metadata": {},
     "output_type": "execute_result"
    }
   ],
   "source": [
    "np.zeros(15)"
   ]
  },
  {
   "cell_type": "code",
   "execution_count": 18,
   "id": "0d50098c-10e0-4df5-8b7c-ef32cdd4f830",
   "metadata": {},
   "outputs": [
    {
     "data": {
      "text/plain": [
       "array([[1., 1., 1., 1., 1.],\n",
       "       [1., 1., 1., 1., 1.],\n",
       "       [1., 1., 1., 1., 1.]])"
      ]
     },
     "execution_count": 18,
     "metadata": {},
     "output_type": "execute_result"
    }
   ],
   "source": [
    "np.ones(15).reshape(3, 5)"
   ]
  },
  {
   "cell_type": "code",
   "execution_count": 20,
   "id": "2e8a3246-e467-413c-bde8-60e34cf29d3a",
   "metadata": {},
   "outputs": [],
   "source": [
    "#we can change the dtype to int or float or any type"
   ]
  },
  {
   "cell_type": "code",
   "execution_count": 21,
   "id": "687f64f9-d7ba-42d7-9b45-30888b06a208",
   "metadata": {},
   "outputs": [
    {
     "data": {
      "text/plain": [
       "array([[1, 1, 1, 1, 1],\n",
       "       [1, 1, 1, 1, 1],\n",
       "       [1, 1, 1, 1, 1]])"
      ]
     },
     "execution_count": 21,
     "metadata": {},
     "output_type": "execute_result"
    }
   ],
   "source": [
    "np.ones(15, dtype = int).reshape(3,5)"
   ]
  },
  {
   "cell_type": "code",
   "execution_count": 22,
   "id": "fc0dafe4-4fa4-4645-9d7c-d61c1354d07c",
   "metadata": {},
   "outputs": [],
   "source": [
    "#A common matrix used in linear algebra is the indentiy matrix (an n x n square matrix\n",
    "#with ones on the main diagonal and zeros elsewhere). We can generate this in np using eye(n)"
   ]
  },
  {
   "cell_type": "code",
   "execution_count": 24,
   "id": "c2ae39ea-a842-4d0f-aaa9-bc3ac6ab170a",
   "metadata": {},
   "outputs": [
    {
     "data": {
      "text/plain": [
       "array([[1., 0., 0., 0., 0., 0., 0., 0., 0., 0.],\n",
       "       [0., 1., 0., 0., 0., 0., 0., 0., 0., 0.],\n",
       "       [0., 0., 1., 0., 0., 0., 0., 0., 0., 0.],\n",
       "       [0., 0., 0., 1., 0., 0., 0., 0., 0., 0.],\n",
       "       [0., 0., 0., 0., 1., 0., 0., 0., 0., 0.],\n",
       "       [0., 0., 0., 0., 0., 1., 0., 0., 0., 0.],\n",
       "       [0., 0., 0., 0., 0., 0., 1., 0., 0., 0.],\n",
       "       [0., 0., 0., 0., 0., 0., 0., 1., 0., 0.],\n",
       "       [0., 0., 0., 0., 0., 0., 0., 0., 1., 0.],\n",
       "       [0., 0., 0., 0., 0., 0., 0., 0., 0., 1.]])"
      ]
     },
     "execution_count": 24,
     "metadata": {},
     "output_type": "execute_result"
    }
   ],
   "source": [
    "np.eye(10)"
   ]
  },
  {
   "cell_type": "code",
   "execution_count": 31,
   "id": "c2f760d6-1470-4f47-8810-188a662c7ec6",
   "metadata": {},
   "outputs": [],
   "source": [
    "#Random numbers can be done i 2 ways\n",
    "#rand (which will fill the ndarray with random samples from a uniform distribution over[0,1))\n",
    "#randn (which will return a sample (or samples) from the standard normal distribution).\n",
    "#randint(low, high, size) to generate a single or multiple random int between [low, high)\n",
    "#the size is the amount of how many random number you want"
   ]
  },
  {
   "cell_type": "code",
   "execution_count": 26,
   "id": "59b0b7e8-807f-4a2e-b345-77ae4322239b",
   "metadata": {},
   "outputs": [
    {
     "data": {
      "text/plain": [
       "array([0.02351819, 0.7681971 , 0.53696514, 0.44051607, 0.91087084])"
      ]
     },
     "execution_count": 26,
     "metadata": {},
     "output_type": "execute_result"
    }
   ],
   "source": [
    "np.random.rand(5)"
   ]
  },
  {
   "cell_type": "code",
   "execution_count": 27,
   "id": "f45127f5-156d-4982-a34e-bd627d987d06",
   "metadata": {},
   "outputs": [
    {
     "data": {
      "text/plain": [
       "array([ 1.96685294, -0.43665295, -0.42728654, -1.50789157,  1.01874105])"
      ]
     },
     "execution_count": 27,
     "metadata": {},
     "output_type": "execute_result"
    }
   ],
   "source": [
    "np.random.randn(5)"
   ]
  },
  {
   "cell_type": "code",
   "execution_count": 28,
   "id": "f96e55cd-e3cd-4c74-b8b4-0451f28a7781",
   "metadata": {},
   "outputs": [
    {
     "data": {
      "text/plain": [
       "84"
      ]
     },
     "execution_count": 28,
     "metadata": {},
     "output_type": "execute_result"
    }
   ],
   "source": [
    "np.random.randint(1,100)"
   ]
  },
  {
   "cell_type": "code",
   "execution_count": 30,
   "id": "14e8ecca-0e8e-4147-8c90-22632cae3522",
   "metadata": {},
   "outputs": [
    {
     "data": {
      "text/plain": [
       "array([24, 57, 10, 86, 28])"
      ]
     },
     "execution_count": 30,
     "metadata": {},
     "output_type": "execute_result"
    }
   ],
   "source": [
    "np.random.randint(1, 100,5)"
   ]
  },
  {
   "cell_type": "code",
   "execution_count": 32,
   "id": "dd746ecb-a9d2-4b26-8fc1-32a2c6acfbb0",
   "metadata": {},
   "outputs": [],
   "source": [
    "#min, max, argmin and argmax. \n",
    "#The only difference between the two arg methods is that they'll instead return the index\n",
    "#position of the min/max value"
   ]
  },
  {
   "cell_type": "code",
   "execution_count": 34,
   "id": "e5c89aad-e11e-4135-ae61-c6ce59176e36",
   "metadata": {},
   "outputs": [
    {
     "data": {
      "text/plain": [
       "array([[79, 89, 63, 48, 39],\n",
       "       [ 1, 56, 10, 83,  1],\n",
       "       [16, 48, 18, 47, 41],\n",
       "       [ 8, 62, 28, 53, 69]])"
      ]
     },
     "execution_count": 34,
     "metadata": {},
     "output_type": "execute_result"
    }
   ],
   "source": [
    "A = np.random.randint(0, 100, 20).reshape(4, 5)\n",
    "A"
   ]
  },
  {
   "cell_type": "code",
   "execution_count": 38,
   "id": "5809ed9e-df9a-4c8d-b6e8-2ef343a0bae3",
   "metadata": {},
   "outputs": [
    {
     "name": "stdout",
     "output_type": "stream",
     "text": [
      "The smallest value in A is  1  and is located at position  5\n",
      "The largest value in A is  89  and is located at position  1\n"
     ]
    }
   ],
   "source": [
    "print(\"The smallest value in A is \", A.min(), \" and is located at position \", A.argmin())\n",
    "print(\"The largest value in A is \", A.max(), \" and is located at position \", A.argmax())"
   ]
  },
  {
   "cell_type": "code",
   "execution_count": 39,
   "id": "3d481de2-1c0a-4ac4-a5b0-34c973f42ce2",
   "metadata": {},
   "outputs": [],
   "source": [
    "#dimension or shape of our ndarray"
   ]
  },
  {
   "cell_type": "code",
   "execution_count": 40,
   "id": "c4ff9aec-80dd-447f-a9fe-5a6a618c2882",
   "metadata": {},
   "outputs": [
    {
     "data": {
      "text/plain": [
       "(4, 5)"
      ]
     },
     "execution_count": 40,
     "metadata": {},
     "output_type": "execute_result"
    }
   ],
   "source": [
    "A.shape"
   ]
  },
  {
   "cell_type": "code",
   "execution_count": 41,
   "id": "913c5813-d967-4437-9d08-3892af44384e",
   "metadata": {},
   "outputs": [
    {
     "data": {
      "text/plain": [
       "(4, 5)"
      ]
     },
     "execution_count": 41,
     "metadata": {},
     "output_type": "execute_result"
    }
   ],
   "source": [
    "np.shape(A)"
   ]
  },
  {
   "cell_type": "code",
   "execution_count": 42,
   "id": "a2a947c8-b830-435a-9cc5-b14d6a2ed29b",
   "metadata": {},
   "outputs": [
    {
     "name": "stdout",
     "output_type": "stream",
     "text": [
      "A: [ 1  2  3  4  5  6  7  8  9 10 11 12 13 14 15]\n",
      "B: [ 1  3  5  7  9 11 13 15 17 19 21 23 25 27 29]\n",
      "C:\n",
      "[[0 1]\n",
      " [2 3]]\n",
      "D:\n",
      "[[0 1]\n",
      " [2 3]]\n",
      "E:\n",
      "[[ 1  2  3  4  5]\n",
      " [ 6  7  8  9 10]\n",
      " [11 12 13 14 15]]\n",
      "F: [ 0  1  2  3  4  5  6  7  8  9 10]\n"
     ]
    }
   ],
   "source": [
    "A = np.arange(1, 16)\n",
    "B = np.arange(1, 30, 2)\n",
    "C = np.arange(0, 4).reshape(2, 2)\n",
    "D = np.arange(0, 4).reshape(2, 2)\n",
    "E = np.arange(1, 16).reshape(3, 5)\n",
    "F = np.arange(11)\n",
    "print(f'A: {A}')\n",
    "print(f'B: {B}')\n",
    "print('C:')\n",
    "print(C)\n",
    "print('D:')\n",
    "print(D)\n",
    "print('E:')\n",
    "print(E)\n",
    "print(f'F: {F}')"
   ]
  },
  {
   "cell_type": "code",
   "execution_count": 43,
   "id": "a6c55369-5957-4e99-a447-87dbd7b32512",
   "metadata": {},
   "outputs": [],
   "source": [
    "#Arithmetic"
   ]
  },
  {
   "cell_type": "code",
   "execution_count": 44,
   "id": "422793df-d999-4967-9c37-25e54c88141a",
   "metadata": {},
   "outputs": [
    {
     "data": {
      "text/plain": [
       "array([ 2,  5,  8, 11, 14, 17, 20, 23, 26, 29, 32, 35, 38, 41, 44])"
      ]
     },
     "execution_count": 44,
     "metadata": {},
     "output_type": "execute_result"
    }
   ],
   "source": [
    "A + B"
   ]
  },
  {
   "cell_type": "code",
   "execution_count": 45,
   "id": "a188ee7b-194f-4448-a865-382e3af3c6cc",
   "metadata": {},
   "outputs": [
    {
     "data": {
      "text/plain": [
       "array([ 6,  7,  8,  9, 10, 11, 12, 13, 14, 15, 16, 17, 18, 19, 20])"
      ]
     },
     "execution_count": 45,
     "metadata": {},
     "output_type": "execute_result"
    }
   ],
   "source": [
    "A+5"
   ]
  },
  {
   "cell_type": "code",
   "execution_count": 46,
   "id": "f0540beb-d0f8-44e8-a1f8-87de930675b4",
   "metadata": {},
   "outputs": [
    {
     "data": {
      "text/plain": [
       "array([  0,  -1,  -2,  -3,  -4,  -5,  -6,  -7,  -8,  -9, -10, -11, -12,\n",
       "       -13, -14])"
      ]
     },
     "execution_count": 46,
     "metadata": {},
     "output_type": "execute_result"
    }
   ],
   "source": [
    "A - B"
   ]
  },
  {
   "cell_type": "code",
   "execution_count": 47,
   "id": "2de292b2-b1c5-432d-b1c2-ec06e05e5292",
   "metadata": {},
   "outputs": [
    {
     "data": {
      "text/plain": [
       "array([-4, -3, -2, -1,  0,  1,  2,  3,  4,  5,  6,  7,  8,  9, 10])"
      ]
     },
     "execution_count": 47,
     "metadata": {},
     "output_type": "execute_result"
    }
   ],
   "source": [
    "A - 5"
   ]
  },
  {
   "cell_type": "code",
   "execution_count": 48,
   "id": "c7ba9355-7321-4422-9966-77084dc11047",
   "metadata": {},
   "outputs": [
    {
     "data": {
      "text/plain": [
       "array([  1,   6,  15,  28,  45,  66,  91, 120, 153, 190, 231, 276, 325,\n",
       "       378, 435])"
      ]
     },
     "execution_count": 48,
     "metadata": {},
     "output_type": "execute_result"
    }
   ],
   "source": [
    "A * B"
   ]
  },
  {
   "cell_type": "code",
   "execution_count": 49,
   "id": "51c00084-4f27-4653-9e71-9d68159512f4",
   "metadata": {},
   "outputs": [
    {
     "data": {
      "text/plain": [
       "array([ 5, 10, 15, 20, 25, 30, 35, 40, 45, 50, 55, 60, 65, 70, 75])"
      ]
     },
     "execution_count": 49,
     "metadata": {},
     "output_type": "execute_result"
    }
   ],
   "source": [
    "A * 5"
   ]
  },
  {
   "cell_type": "code",
   "execution_count": 50,
   "id": "10c3c28c-ada0-4c4c-ae86-d56c0ac38d9c",
   "metadata": {},
   "outputs": [
    {
     "data": {
      "text/plain": [
       "array([1.        , 0.66666667, 0.6       , 0.57142857, 0.55555556,\n",
       "       0.54545455, 0.53846154, 0.53333333, 0.52941176, 0.52631579,\n",
       "       0.52380952, 0.52173913, 0.52      , 0.51851852, 0.51724138])"
      ]
     },
     "execution_count": 50,
     "metadata": {},
     "output_type": "execute_result"
    }
   ],
   "source": [
    "A / B"
   ]
  },
  {
   "cell_type": "code",
   "execution_count": 51,
   "id": "87754670-5817-4305-9381-28481ed500d3",
   "metadata": {},
   "outputs": [],
   "source": [
    "#matmul can be use to do matrix multiplication"
   ]
  },
  {
   "cell_type": "code",
   "execution_count": 52,
   "id": "96d5c8ca-7691-4c69-9af6-04172ce7b1eb",
   "metadata": {},
   "outputs": [
    {
     "data": {
      "text/plain": [
       "array([[ 2,  3],\n",
       "       [ 6, 11]])"
      ]
     },
     "execution_count": 52,
     "metadata": {},
     "output_type": "execute_result"
    }
   ],
   "source": [
    "np.matmul(C, D)"
   ]
  },
  {
   "cell_type": "code",
   "execution_count": 53,
   "id": "c3bc2159-648c-4229-b7f0-fd111bc180e5",
   "metadata": {},
   "outputs": [],
   "source": [
    "#Universal Function"
   ]
  },
  {
   "cell_type": "code",
   "execution_count": 54,
   "id": "56b5eaed-0e4b-4d7a-9742-3087686fd6ac",
   "metadata": {},
   "outputs": [
    {
     "data": {
      "text/plain": [
       "array([[1.        , 1.41421356, 1.73205081, 2.        , 2.23606798],\n",
       "       [2.44948974, 2.64575131, 2.82842712, 3.        , 3.16227766],\n",
       "       [3.31662479, 3.46410162, 3.60555128, 3.74165739, 3.87298335]])"
      ]
     },
     "execution_count": 54,
     "metadata": {},
     "output_type": "execute_result"
    }
   ],
   "source": [
    "np.sqrt(E)"
   ]
  },
  {
   "cell_type": "code",
   "execution_count": 55,
   "id": "002e8080-074c-43c6-ab75-e1abe70b28c1",
   "metadata": {},
   "outputs": [
    {
     "data": {
      "text/plain": [
       "array([[0.        , 0.69314718, 1.09861229, 1.38629436, 1.60943791],\n",
       "       [1.79175947, 1.94591015, 2.07944154, 2.19722458, 2.30258509],\n",
       "       [2.39789527, 2.48490665, 2.56494936, 2.63905733, 2.7080502 ]])"
      ]
     },
     "execution_count": 55,
     "metadata": {},
     "output_type": "execute_result"
    }
   ],
   "source": [
    "np.log(E)"
   ]
  },
  {
   "cell_type": "code",
   "execution_count": 56,
   "id": "3b47d6d7-da0e-4610-823c-6d2607a5566e",
   "metadata": {},
   "outputs": [],
   "source": [
    "#where(condition, x, y) - this will loop through every element in the ndarray and return a new ndarray that replaces\n",
    "#the element with x if condition is met, and y if the condition is not met"
   ]
  },
  {
   "cell_type": "code",
   "execution_count": 58,
   "id": "4e27f044-67ce-4fe5-a7b6-62be1c89ab18",
   "metadata": {},
   "outputs": [
    {
     "data": {
      "text/plain": [
       "array([ -2, 100,  -2, 300,  -2, 500,  -2, 700,  -2, 900,  -2])"
      ]
     },
     "execution_count": 58,
     "metadata": {},
     "output_type": "execute_result"
    }
   ],
   "source": [
    "np.where(F%2 == 0, - 2, F*100)"
   ]
  },
  {
   "cell_type": "code",
   "execution_count": 67,
   "id": "1c02073c-4af3-4e36-826e-86f7be9a7bdd",
   "metadata": {},
   "outputs": [],
   "source": [
    "#Indexing 1d array"
   ]
  },
  {
   "cell_type": "code",
   "execution_count": 60,
   "id": "0d0191d5-2984-4f79-885d-7cc76fc7cbfa",
   "metadata": {},
   "outputs": [
    {
     "data": {
      "text/plain": [
       "array([ 0,  1,  2,  3,  4,  5,  6,  7,  8,  9, 10, 11, 12, 13, 14])"
      ]
     },
     "execution_count": 60,
     "metadata": {},
     "output_type": "execute_result"
    }
   ],
   "source": [
    "A = np.arange(15)\n",
    "A"
   ]
  },
  {
   "cell_type": "code",
   "execution_count": 61,
   "id": "beb500fe-548e-4091-9f99-da1da3b09570",
   "metadata": {},
   "outputs": [
    {
     "name": "stdout",
     "output_type": "stream",
     "text": [
      "A[0]: 0\n",
      "A[5]: 5\n",
      "A[14]: 14\n"
     ]
    }
   ],
   "source": [
    "print(f'A[0]: {A[0]}')\n",
    "print(f'A[5]: {A[5]}')\n",
    "print(f'A[14]: {A[14]}')"
   ]
  },
  {
   "cell_type": "code",
   "execution_count": 62,
   "id": "494b95b6-3fef-4f91-a7ca-99dd4a0be2c9",
   "metadata": {},
   "outputs": [],
   "source": [
    "#we can grab a section using A[start_index:stop_index] stop_index is not inclusive"
   ]
  },
  {
   "cell_type": "code",
   "execution_count": 63,
   "id": "dd2aa765-1620-49c9-a8b5-91f44e62fe03",
   "metadata": {},
   "outputs": [
    {
     "data": {
      "text/plain": [
       "array([0, 1, 2, 3, 4, 5, 6, 7, 8, 9])"
      ]
     },
     "execution_count": 63,
     "metadata": {},
     "output_type": "execute_result"
    }
   ],
   "source": [
    "A[0:10]"
   ]
  },
  {
   "cell_type": "code",
   "execution_count": 64,
   "id": "62b92272-11ae-4708-bb21-696edb1b93d7",
   "metadata": {},
   "outputs": [],
   "source": [
    "#we can also modify"
   ]
  },
  {
   "cell_type": "code",
   "execution_count": 66,
   "id": "0d4c11a1-e193-4e5b-b172-1485ab1bd965",
   "metadata": {},
   "outputs": [
    {
     "data": {
      "text/plain": [
       "array([500, 500, 500, 500, 500, 500, 500, 500, 500, 500,  10,  11,  12,\n",
       "        13,  14])"
      ]
     },
     "execution_count": 66,
     "metadata": {},
     "output_type": "execute_result"
    }
   ],
   "source": [
    "A[0:10] = 500\n",
    "A"
   ]
  },
  {
   "cell_type": "code",
   "execution_count": 68,
   "id": "0ef94cdb-aa0d-42fa-a4e1-35c48012706b",
   "metadata": {},
   "outputs": [],
   "source": [
    "#Indexing 2d array"
   ]
  },
  {
   "cell_type": "code",
   "execution_count": 70,
   "id": "e0489ef9-8c2a-40be-a36c-df5d71878294",
   "metadata": {},
   "outputs": [
    {
     "data": {
      "text/plain": [
       "array([[ 0,  1,  2,  3,  4,  5,  6,  7,  8,  9],\n",
       "       [10, 11, 12, 13, 14, 15, 16, 17, 18, 19],\n",
       "       [20, 21, 22, 23, 24, 25, 26, 27, 28, 29],\n",
       "       [30, 31, 32, 33, 34, 35, 36, 37, 38, 39],\n",
       "       [40, 41, 42, 43, 44, 45, 46, 47, 48, 49]])"
      ]
     },
     "execution_count": 70,
     "metadata": {},
     "output_type": "execute_result"
    }
   ],
   "source": [
    "B = np.arange(50).reshape(5, 10)\n",
    "B"
   ]
  },
  {
   "cell_type": "code",
   "execution_count": 71,
   "id": "287fcc17-33d1-4fa3-9cf2-d7c21534a4e3",
   "metadata": {},
   "outputs": [],
   "source": [
    "#obtaining a single element can be done using B[row, col]"
   ]
  },
  {
   "cell_type": "code",
   "execution_count": 72,
   "id": "e64ae692-7da1-48f2-af37-c93a580ff0f1",
   "metadata": {},
   "outputs": [
    {
     "name": "stdout",
     "output_type": "stream",
     "text": [
      "0th row and 2nd col in B: 2\n",
      "3rd row and 3rd col in B: 33\n",
      "4th row and 2nd col in B: 42\n"
     ]
    }
   ],
   "source": [
    "print(f'0th row and 2nd col in B: {B[0, 2]}')\n",
    "print(f'3rd row and 3rd col in B: {B[3, 3]}')\n",
    "print(f'4th row and 2nd col in B: {B[4, 2]}')"
   ]
  },
  {
   "cell_type": "code",
   "execution_count": 73,
   "id": "d4b918ac-351c-4893-9435-d3b45dff814b",
   "metadata": {},
   "outputs": [],
   "source": [
    "#we can also grab a section of interest from the 2darray. \"B[0:2, 3:5]\"\n",
    "#that means we want rows 0-2 from B but only the elements in that row corresponding to columns 3-5"
   ]
  },
  {
   "cell_type": "code",
   "execution_count": 74,
   "id": "2a63505a-fdad-4b5f-997d-d84d23d49d73",
   "metadata": {},
   "outputs": [
    {
     "data": {
      "text/plain": [
       "array([[ 3,  4],\n",
       "       [13, 14]])"
      ]
     },
     "execution_count": 74,
     "metadata": {},
     "output_type": "execute_result"
    }
   ],
   "source": [
    "B[0:2, 3:5]"
   ]
  },
  {
   "cell_type": "code",
   "execution_count": 75,
   "id": "838dbcb0-830f-446e-ac24-3f8df87951ce",
   "metadata": {},
   "outputs": [],
   "source": [
    "#we can also modify values in this way"
   ]
  },
  {
   "cell_type": "code",
   "execution_count": 76,
   "id": "f3817885-fd76-4847-901d-0de88d34e523",
   "metadata": {},
   "outputs": [
    {
     "data": {
      "text/plain": [
       "array([[ 0,  1,  2, -1, -1,  5,  6,  7,  8,  9],\n",
       "       [10, 11, 12, -1, -1, 15, 16, 17, 18, 19],\n",
       "       [20, 21, 22, 23, 24, 25, 26, 27, 28, 29],\n",
       "       [30, 31, 32, 33, 34, 35, 36, 37, 38, 39],\n",
       "       [40, 41, 42, 43, 44, 45, 46, 47, 48, 49]])"
      ]
     },
     "execution_count": 76,
     "metadata": {},
     "output_type": "execute_result"
    }
   ],
   "source": [
    "B[0:2, 3:5] = -1\n",
    "B"
   ]
  },
  {
   "cell_type": "code",
   "execution_count": 78,
   "id": "bb43d682-126e-4843-aac1-c5f0bbc49908",
   "metadata": {},
   "outputs": [],
   "source": [
    "#Boolean Array Indexing"
   ]
  },
  {
   "cell_type": "code",
   "execution_count": 79,
   "id": "3e55bb96-b974-4dcb-b92c-a01418ae98a8",
   "metadata": {},
   "outputs": [
    {
     "data": {
      "text/plain": [
       "array([[ 0,  1,  2,  3,  4],\n",
       "       [ 5,  6,  7,  8,  9],\n",
       "       [10, 11, 12, 13, 14],\n",
       "       [15, 16, 17, 18, 19],\n",
       "       [20, 21, 22, 23, 24],\n",
       "       [25, 26, 27, 28, 29],\n",
       "       [30, 31, 32, 33, 34],\n",
       "       [35, 36, 37, 38, 39],\n",
       "       [40, 41, 42, 43, 44],\n",
       "       [45, 46, 47, 48, 49]])"
      ]
     },
     "execution_count": 79,
     "metadata": {},
     "output_type": "execute_result"
    }
   ],
   "source": [
    "C = np.arange(50).reshape(10, 5)\n",
    "C"
   ]
  },
  {
   "cell_type": "code",
   "execution_count": 80,
   "id": "80ea0fcd-a1c6-4c6e-9433-5cf0e77eab84",
   "metadata": {},
   "outputs": [],
   "source": [
    "#we can index arrays using comparison operators\n",
    "#this let us modify or select only elements meeting some condition"
   ]
  },
  {
   "cell_type": "code",
   "execution_count": 81,
   "id": "29eed3ab-550d-4716-b49d-664652908aa9",
   "metadata": {},
   "outputs": [
    {
     "data": {
      "text/plain": [
       "array([[ True, False,  True, False,  True],\n",
       "       [False,  True, False,  True, False],\n",
       "       [ True, False,  True, False,  True],\n",
       "       [False,  True, False,  True, False],\n",
       "       [ True, False,  True, False,  True],\n",
       "       [False,  True, False,  True, False],\n",
       "       [ True, False,  True, False,  True],\n",
       "       [False,  True, False,  True, False],\n",
       "       [ True, False,  True, False,  True],\n",
       "       [False,  True, False,  True, False]])"
      ]
     },
     "execution_count": 81,
     "metadata": {},
     "output_type": "execute_result"
    }
   ],
   "source": [
    "C % 2 == 0"
   ]
  },
  {
   "cell_type": "code",
   "execution_count": 84,
   "id": "47bd0abb-ddd3-4f33-9ec1-6be69d0471e7",
   "metadata": {},
   "outputs": [],
   "source": [
    "#0 - false,  1 - true"
   ]
  },
  {
   "cell_type": "code",
   "execution_count": 85,
   "id": "628984cd-3fbe-4bff-84c0-00ddcfb5e0f6",
   "metadata": {},
   "outputs": [
    {
     "data": {
      "text/plain": [
       "25"
      ]
     },
     "execution_count": 85,
     "metadata": {},
     "output_type": "execute_result"
    }
   ],
   "source": [
    "(C % 2 == 0).sum()"
   ]
  },
  {
   "cell_type": "code",
   "execution_count": 86,
   "id": "01efec7f-6acb-40f2-ba61-665144dabf80",
   "metadata": {},
   "outputs": [],
   "source": [
    "#passing the boolean array as an index. what this will do is filter out the False elements and only leave us with the \n",
    "#elements corresponding to True (even values in our case)"
   ]
  },
  {
   "cell_type": "code",
   "execution_count": 87,
   "id": "d563e100-6f49-4f9c-9a1f-210820b016c6",
   "metadata": {},
   "outputs": [
    {
     "data": {
      "text/plain": [
       "array([ 0,  2,  4,  6,  8, 10, 12, 14, 16, 18, 20, 22, 24, 26, 28, 30, 32,\n",
       "       34, 36, 38, 40, 42, 44, 46, 48])"
      ]
     },
     "execution_count": 87,
     "metadata": {},
     "output_type": "execute_result"
    }
   ],
   "source": [
    "C[C%2 == 0]"
   ]
  },
  {
   "cell_type": "code",
   "execution_count": null,
   "id": "80b8030c-26cb-4950-b754-7875c34dbfd8",
   "metadata": {},
   "outputs": [],
   "source": []
  }
 ],
 "metadata": {
  "kernelspec": {
   "display_name": "Python 3 (ipykernel)",
   "language": "python",
   "name": "python3"
  },
  "language_info": {
   "codemirror_mode": {
    "name": "ipython",
    "version": 3
   },
   "file_extension": ".py",
   "mimetype": "text/x-python",
   "name": "python",
   "nbconvert_exporter": "python",
   "pygments_lexer": "ipython3",
   "version": "3.9.7"
  }
 },
 "nbformat": 4,
 "nbformat_minor": 5
}
